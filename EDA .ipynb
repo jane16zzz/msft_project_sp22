{
 "cells": [
  {
   "cell_type": "code",
   "execution_count": null,
   "id": "54478cd6",
   "metadata": {},
   "outputs": [],
   "source": [
    "import pandas as pd\n",
    "import matplotlib.pyplot as plt\n",
    "\n",
    "\n",
    "dat = pd.read_excel(\"Microsoft.Enterprise.Data.Storage.xlsx\")\n",
    "\n",
    "dat1 = pd.read_csv(\"msft_enterprise_data.csv\")\n",
    "\n",
    "dat.describe()\n",
    "\n",
    "dat.info()\n",
    "\n",
    "dat = dat.rename(columns={\"Business Unit ID\": \"biz_unit_id\", \"Entity ID\": \"entity_id\", \n",
    "                    \"Storage Size (Giga Bytes)\": \"storage_size\", \"Read Operation Count\": \"read_count\",\n",
    "                   \"Read Operation Size (Giga Bytes)\": \"read_size\", \"Write Operation Count\": \"write_count\",\n",
    "                   \"Write Operation Size\":\"write_size\"})\n",
    "\n",
    "dat.head()\n",
    "\n",
    "dat.isnull().sum()\n",
    "\n",
    "dat.hist(column = ['storage_size', 'read_count', 'read_size', 'write_count', 'write_size'])\n",
    "plt.show\n",
    "\n",
    "dat[['storage_size', 'read_count', 'read_size', 'write_count', 'write_size']].describe()\n",
    "\n"
   ]
  }
 ],
 "metadata": {
  "kernelspec": {
   "display_name": "Python 3 (ipykernel)",
   "language": "python",
   "name": "python3"
  },
  "language_info": {
   "codemirror_mode": {
    "name": "ipython",
    "version": 3
   },
   "file_extension": ".py",
   "mimetype": "text/x-python",
   "name": "python",
   "nbconvert_exporter": "python",
   "pygments_lexer": "ipython3",
   "version": "3.9.7"
  }
 },
 "nbformat": 4,
 "nbformat_minor": 5
}
